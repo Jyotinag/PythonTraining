{
 "cells": [
  {
   "cell_type": "markdown",
   "metadata": {},
   "source": [
    "Initial Python Training"
   ]
  },
  {
   "cell_type": "code",
   "execution_count": 6,
   "metadata": {},
   "outputs": [
    {
     "name": "stdout",
     "output_type": "stream",
     "text": [
      "1\n",
      "Is Odd\n",
      "2\n",
      "Is Even\n",
      "3\n",
      "Is Odd\n",
      "4\n",
      "Is Even\n",
      "5\n",
      "Is Odd\n",
      "6\n",
      "Is Even\n",
      "7\n",
      "Is Odd\n",
      "8\n",
      "Is Even\n",
      "9\n",
      "Is Odd\n",
      "10\n",
      "Is Even\n",
      "All done\n"
     ]
    }
   ],
   "source": [
    "numberList = [1,2,3,4,5,6,7,8,9,10]\n",
    "for number in numberList:\n",
    "    print (number,)\n",
    "    if(number % 2 == 0):\n",
    "        print (\"Is Even\")\n",
    "    else:\n",
    "        print (\"Is Odd\")\n",
    "print (\"All done\")"
   ]
  },
  {
   "cell_type": "code",
   "execution_count": null,
   "metadata": {
    "collapsed": true
   },
   "outputs": [],
   "source": []
  },
  {
   "cell_type": "code",
   "execution_count": null,
   "metadata": {
    "collapsed": true
   },
   "outputs": [],
   "source": []
  }
 ],
 "metadata": {
  "kernelspec": {
   "display_name": "Python 3",
   "language": "python",
   "name": "python3"
  },
  "language_info": {
   "codemirror_mode": {
    "name": "ipython",
    "version": 3
   },
   "file_extension": ".py",
   "mimetype": "text/x-python",
   "name": "python",
   "nbconvert_exporter": "python",
   "pygments_lexer": "ipython3",
   "version": "3.5.4"
  }
 },
 "nbformat": 4,
 "nbformat_minor": 2
}
