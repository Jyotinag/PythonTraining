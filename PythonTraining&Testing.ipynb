{
 "cells": [
  {
   "cell_type": "markdown",
   "metadata": {},
   "source": [
    "<div class = \"alert alert-block alert-info\">\n",
    "<h1>Python Initial Training</h1>\n",
    "<p>\n",
    "This is where it all starts. I use this notebook to writedown whatever I learn and test whatever I want to test. It's kind of a working tutorial I guess :P <br>\n",
    "I work on various important tools for data science and machine learning. This is also available on github if you want to go through all the things. Might be a good start for all of the machine learning enthusiast out there.\n",
    "</p>\n",
    "</div>"
   ]
  },
  {
   "cell_type": "code",
   "execution_count": 16,
   "metadata": {},
   "outputs": [
    {
     "name": "stdout",
     "output_type": "stream",
     "text": [
      "1  Is Odd\n",
      "2  Is Even\n",
      "3  Is Odd\n",
      "4  Is Even\n",
      "5  Is Odd\n",
      "6  Is Even\n",
      "7  Is Odd\n",
      "8  Is Even\n",
      "9  Is Odd\n",
      "10  Is Even\n",
      "All done\n"
     ]
    }
   ],
   "source": [
    "numberList = [1,2,3,4,5,6,7,8,9,10]\n",
    "for number in numberList:\n",
    "#Python includes a newLine automatically after printing something with print() function\n",
    "#To avoid this issue we can specify what the print will generate at the end with (end='') parameter\n",
    "#To avoid buffer issue we should use the flush = True parameter\n",
    "    print (number,\" \", end='', flush = True)\n",
    "    if(number % 2 == 0):\n",
    "        print (\"Is Even\")\n",
    "    else:\n",
    "        print (\"Is Odd\")\n",
    "print (\"All done\")"
   ]
  },
  {
   "cell_type": "markdown",
   "metadata": {},
   "source": [
    "<h2>NumPy</h2>\n",
    "<p>NumPy might be the greatest thing that ever happened to Python. I am trying to learn the UFuncs of NumPy in the following section(Probably as i intend to do a lot of things then get side tracked and write down bunch of unnecessary codes).</p>"
   ]
  },
  {
   "cell_type": "code",
   "execution_count": 18,
   "metadata": {},
   "outputs": [
    {
     "name": "stdout",
     "output_type": "stream",
     "text": [
      "26.59149767765964\n",
      "[29.44218787 29.74054895 29.22885063 28.33223438 14.56290468 27.44576616\n",
      " 23.74922444 23.67979088 27.14661883 32.58684995]\n"
     ]
    }
   ],
   "source": [
    "import numpy as np\n",
    "#importing numpy(Numeric Python)\n",
    "A = np.random.normal(25.0,5.0,10)\n",
    "#Generates (10) random numbers that has the Mean(25.0) as the center of the distribution\n",
    "#And 5.0 as the standard devieation\n",
    "summed = 0\n",
    "for number in A:\n",
    "    summed = summed + number\n",
    "mean = summed/10\n",
    "#Just trying to see if the documentation is right or not :P\n",
    "print(mean)\n",
    "print(A)\n",
    "\n"
   ]
  },
  {
   "cell_type": "code",
   "execution_count": 21,
   "metadata": {},
   "outputs": [
    {
     "name": "stdout",
     "output_type": "stream",
     "text": [
      "1  Is Odd\n",
      "2  Is Even\n",
      "3  Is Odd\n",
      "4  Is Even\n",
      "5  Is Odd\n",
      "6  Is Even\n",
      "7  Is Odd\n",
      "8  Is Even\n",
      "9  Is Odd\n",
      "10  Is Even\n"
     ]
    }
   ],
   "source": [
    "x = []\n",
    "iterator = 1\n",
    "while(iterator<=10):\n",
    "    x.append(iterator)\n",
    "    iterator+=1\n",
    "for y in x:\n",
    "    print(y,\" \",end = '',flush = True)\n",
    "    if(y%2==0):\n",
    "        print(\"Is Even\")\n",
    "    else:\n",
    "        print(\"Is Odd\")"
   ]
  },
  {
   "cell_type": "markdown",
   "metadata": {},
   "source": [
    "<h2>Matplotlib</h2>\n",
    "<p>In this section I hopefully work on Matplotlib. This library is to visualize all the data we work with and help us analysis the data. </p>"
   ]
  },
  {
   "cell_type": "code",
   "execution_count": 7,
   "metadata": {},
   "outputs": [
    {
     "data": {
      "text/plain": [
       "array([1., 2., 3., 4.], dtype=float32)"
      ]
     },
     "execution_count": 7,
     "metadata": {},
     "output_type": "execute_result"
    }
   ],
   "source": [
    "import numpy as np\n",
    "from matplotlib import pyplot as plt\n",
    "import pandas as pd\n",
    "\n",
    "#np.__version__ to check the version for no reason\n",
    "\n",
    "np.array([1,2,3,4],dtype='float32')"
   ]
  },
  {
   "cell_type": "code",
   "execution_count": null,
   "metadata": {
    "collapsed": true
   },
   "outputs": [],
   "source": []
  }
 ],
 "metadata": {
  "kernelspec": {
   "display_name": "Python 3",
   "language": "python",
   "name": "python3"
  },
  "language_info": {
   "codemirror_mode": {
    "name": "ipython",
    "version": 3
   },
   "file_extension": ".py",
   "mimetype": "text/x-python",
   "name": "python",
   "nbconvert_exporter": "python",
   "pygments_lexer": "ipython3",
   "version": "3.5.4"
  }
 },
 "nbformat": 4,
 "nbformat_minor": 2
}
